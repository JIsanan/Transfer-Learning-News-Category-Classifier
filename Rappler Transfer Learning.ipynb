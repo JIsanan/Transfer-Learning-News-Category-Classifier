{
 "cells": [
  {
   "cell_type": "markdown",
   "metadata": {},
   "source": [
    "# Rappler Article Transfer Learning\n",
    "- The goal is to create an accurate classifier that would utilize only the subheader and title of the article.\n",
    "\n",
    "\n",
    "Let's first import our dependencies."
   ]
  },
  {
   "cell_type": "code",
   "execution_count": 1,
   "metadata": {},
   "outputs": [
    {
     "name": "stderr",
     "output_type": "stream",
     "text": [
      "Using TensorFlow backend.\n"
     ]
    }
   ],
   "source": [
    "import torch\n",
    "from torch.utils.data import TensorDataset, DataLoader, RandomSampler, SequentialSampler\n",
    "from keras.preprocessing.sequence import pad_sequences\n",
    "from sklearn.model_selection import train_test_split\n",
    "from pytorch_pretrained_bert import BertTokenizer, BertConfig\n",
    "from pytorch_pretrained_bert import BertAdam, BertForSequenceClassification\n",
    "from tqdm import tqdm, trange\n",
    "import pandas as pd\n",
    "import io\n",
    "import numpy as np\n",
    "import matplotlib.pyplot as plt\n",
    "%matplotlib inline"
   ]
  },
  {
   "cell_type": "markdown",
   "metadata": {},
   "source": [
    "Let's utilize the CPU for training."
   ]
  },
  {
   "cell_type": "code",
   "execution_count": 2,
   "metadata": {},
   "outputs": [],
   "source": [
    "device = torch.device(\"cpu\")"
   ]
  },
  {
   "cell_type": "markdown",
   "metadata": {},
   "source": [
    "Load the dataset for data cleaning and wrangling."
   ]
  },
  {
   "cell_type": "code",
   "execution_count": 3,
   "metadata": {},
   "outputs": [],
   "source": [
    "df = pd.read_excel(\"~/Downloads/rappler.xlsx\")\n",
    "df = df.fillna('', inplace=False)\n",
    "df['Content'] = df['Article Name'] + ' ' + df['Subheader']"
   ]
  },
  {
   "cell_type": "markdown",
   "metadata": {},
   "source": [
    "Create the test set for use in evaluation later on. Also remove the test set from the original dataset that will then be divided to train and validation later."
   ]
  },
  {
   "cell_type": "code",
   "execution_count": 4,
   "metadata": {},
   "outputs": [
    {
     "name": "stdout",
     "output_type": "stream",
     "text": [
      "(8095, 4)\n",
      "(7695, 4)\n"
     ]
    }
   ],
   "source": [
    "test = df[df['Category']=='Technology'][:100]\n",
    "test = test.append(df[df['Category']=='Crime'][:100])\n",
    "test = test.append(df[df['Category']=='SportLoad the dataset for data cleaning and wrangling.s'][:100])\n",
    "test = test.append(df[df['Category']=='Business'][:100])\n",
    "print(df.shape)\n",
    "df = df[~df.isin(test)].dropna()\n",
    "print(df.shape)"
   ]
  },
  {
   "cell_type": "markdown",
   "metadata": {},
   "source": [
    "Turn the categories into integers for training our model."
   ]
  },
  {
   "cell_type": "code",
   "execution_count": 5,
   "metadata": {},
   "outputs": [
    {
     "data": {
      "text/html": [
       "<div>\n",
       "<style scoped>\n",
       "    .dataframe tbody tr th:only-of-type {\n",
       "        vertical-align: middle;\n",
       "    }\n",
       "\n",
       "    .dataframe tbody tr th {\n",
       "        vertical-align: top;\n",
       "    }\n",
       "\n",
       "    .dataframe thead th {\n",
       "        text-align: right;\n",
       "    }\n",
       "</style>\n",
       "<table border=\"1\" class=\"dataframe\">\n",
       "  <thead>\n",
       "    <tr style=\"text-align: right;\">\n",
       "      <th></th>\n",
       "      <th>Article Name</th>\n",
       "      <th>Subheader</th>\n",
       "      <th>Category</th>\n",
       "      <th>Content</th>\n",
       "    </tr>\n",
       "  </thead>\n",
       "  <tbody>\n",
       "    <tr>\n",
       "      <th>100</th>\n",
       "      <td>Warriors named Sports Illustrated's 'Sportsper...</td>\n",
       "      <td>The Golden State is the first NBA team to rece...</td>\n",
       "      <td>2</td>\n",
       "      <td>Warriors named Sports Illustrated's 'Sportsper...</td>\n",
       "    </tr>\n",
       "    <tr>\n",
       "      <th>101</th>\n",
       "      <td>PH Sports Training Center to rise in Pangasina...</td>\n",
       "      <td>The new Philippine Sports Training Center Act ...</td>\n",
       "      <td>2</td>\n",
       "      <td>PH Sports Training Center to rise in Pangasina...</td>\n",
       "    </tr>\n",
       "    <tr>\n",
       "      <th>102</th>\n",
       "      <td>PH begins countdown to hosting SEA Games 2019</td>\n",
       "      <td>The Philippines has less than 365 days to go u...</td>\n",
       "      <td>2</td>\n",
       "      <td>PH begins countdown to hosting SEA Games 2019 ...</td>\n",
       "    </tr>\n",
       "    <tr>\n",
       "      <th>103</th>\n",
       "      <td>LOOK: SEA Games 2019 logo stands tall at Bayan...</td>\n",
       "      <td>The Philippine SEA Games Organizing Committee ...</td>\n",
       "      <td>2</td>\n",
       "      <td>LOOK: SEA Games 2019 logo stands tall at Bayan...</td>\n",
       "    </tr>\n",
       "    <tr>\n",
       "      <th>104</th>\n",
       "      <td>SEA GAMES 2019: Skateboarding, windsurfing amo...</td>\n",
       "      <td>The Southeast Asian Games Federation Council a...</td>\n",
       "      <td>2</td>\n",
       "      <td>SEA GAMES 2019: Skateboarding, windsurfing amo...</td>\n",
       "    </tr>\n",
       "  </tbody>\n",
       "</table>\n",
       "</div>"
      ],
      "text/plain": [
       "                                          Article Name  \\\n",
       "100  Warriors named Sports Illustrated's 'Sportsper...   \n",
       "101  PH Sports Training Center to rise in Pangasina...   \n",
       "102      PH begins countdown to hosting SEA Games 2019   \n",
       "103  LOOK: SEA Games 2019 logo stands tall at Bayan...   \n",
       "104  SEA GAMES 2019: Skateboarding, windsurfing amo...   \n",
       "\n",
       "                                             Subheader  Category  \\\n",
       "100  The Golden State is the first NBA team to rece...         2   \n",
       "101  The new Philippine Sports Training Center Act ...         2   \n",
       "102  The Philippines has less than 365 days to go u...         2   \n",
       "103  The Philippine SEA Games Organizing Committee ...         2   \n",
       "104  The Southeast Asian Games Federation Council a...         2   \n",
       "\n",
       "                                               Content  \n",
       "100  Warriors named Sports Illustrated's 'Sportsper...  \n",
       "101  PH Sports Training Center to rise in Pangasina...  \n",
       "102  PH begins countdown to hosting SEA Games 2019 ...  \n",
       "103  LOOK: SEA Games 2019 logo stands tall at Bayan...  \n",
       "104  SEA GAMES 2019: Skateboarding, windsurfing amo...  "
      ]
     },
     "execution_count": 5,
     "metadata": {},
     "output_type": "execute_result"
    }
   ],
   "source": [
    "df['Category'] = df['Category'].astype('category')\n",
    "df['Category'] = df['Category'].cat.codes\n",
    "df.head()\n",
    "# 0 BUSINESS, 1 CRIME, 2 SPORTS, 3 TECHNOLOGY"
   ]
  },
  {
   "cell_type": "markdown",
   "metadata": {},
   "source": [
    "Create our sentences by retrieving the contents of all entries in our dataset. Add the special tokens as well as BERT requires those to be present. We need to retrieve the labels as well as it will be used to supervise our model later on."
   ]
  },
  {
   "cell_type": "code",
   "execution_count": 6,
   "metadata": {},
   "outputs": [],
   "source": [
    "# Create sentence and label lists\n",
    "sentences = df.Content.values\n",
    "\n",
    "# We need to add special tokens at the beginning and end of each sentence for BERT to work properly\n",
    "sentences = [\"[CLS] \" + sentence + \" [SEP]\" for sentence in sentences]\n",
    "labels = df.Category.values"
   ]
  },
  {
   "cell_type": "markdown",
   "metadata": {},
   "source": [
    "Tokenize our dataset. We'll be using bert-base-uncased as our tokenizer which means that we'll be making sure that each letter is lower case."
   ]
  },
  {
   "cell_type": "code",
   "execution_count": 7,
   "metadata": {
    "scrolled": true
   },
   "outputs": [
    {
     "name": "stdout",
     "output_type": "stream",
     "text": [
      "Tokenize the first sentence:\n",
      "['[CLS]', 'warriors', 'named', 'sports', 'illustrated', \"'\", 's', \"'\", 'sports', '##person', 'of', 'the', 'year', \"'\", 'the', 'golden', 'state', 'is', 'the', 'first', 'nba', 'team', 'to', 'receive', 'the', 'award', 'for', 'their', 'collective', 'feat', '##s', 'on', 'the', 'court', 'over', 'the', 'past', '5', 'years', '[SEP]']\n"
     ]
    }
   ],
   "source": [
    "tokenizer = BertTokenizer.from_pretrained('bert-base-uncased', do_lower_case=True)\n",
    "\n",
    "tokenized_texts = [tokenizer.tokenize(sent) for sent in sentences]\n",
    "print (\"Tokenize the first sentence:\")\n",
    "print (tokenized_texts[0])"
   ]
  },
  {
   "cell_type": "markdown",
   "metadata": {},
   "source": [
    "Set the maximum length of each entry in our dataset. This allows us to have uniform lengths for each entry."
   ]
  },
  {
   "cell_type": "code",
   "execution_count": 8,
   "metadata": {},
   "outputs": [],
   "source": [
    "MAX_LEN = 128"
   ]
  },
  {
   "cell_type": "markdown",
   "metadata": {},
   "source": [
    "Tokenize our text data."
   ]
  },
  {
   "cell_type": "code",
   "execution_count": 9,
   "metadata": {},
   "outputs": [],
   "source": [
    "# Use the BERT tokenizer to convert the tokens to their index numbers in the BERT vocabulary\n",
    "input_ids = [tokenizer.convert_tokens_to_ids(x) for x in tokenized_texts]"
   ]
  },
  {
   "cell_type": "markdown",
   "metadata": {},
   "source": [
    "Pad our inputs so we'll have uniform size for each sentence in our dataset."
   ]
  },
  {
   "cell_type": "code",
   "execution_count": 10,
   "metadata": {},
   "outputs": [],
   "source": [
    "# Pad our input tokens\n",
    "input_ids = pad_sequences(input_ids, maxlen=MAX_LEN, dtype=\"long\", truncating=\"post\", padding=\"post\")"
   ]
  },
  {
   "cell_type": "markdown",
   "metadata": {},
   "source": [
    "Create an attention mask to know when there are real words or when there's padding instead."
   ]
  },
  {
   "cell_type": "code",
   "execution_count": 11,
   "metadata": {},
   "outputs": [],
   "source": [
    "# Create attention masks\n",
    "attention_masks = []\n",
    "\n",
    "# Create a mask of 1s for each token followed by 0s for padding\n",
    "for seq in input_ids:\n",
    "  seq_mask = [float(i>0) for i in seq]\n",
    "  attention_masks.append(seq_mask)"
   ]
  },
  {
   "cell_type": "markdown",
   "metadata": {},
   "source": [
    "Split our dataset into train and validation."
   ]
  },
  {
   "cell_type": "code",
   "execution_count": 12,
   "metadata": {},
   "outputs": [],
   "source": [
    "# Use train_test_split to split our data into train and validation sets for training\n",
    "\n",
    "train_inputs, validation_inputs, train_labels, validation_labels = train_test_split(input_ids, labels, \n",
    "                                                            random_state=2018, test_size=0.1)\n",
    "train_masks, validation_masks, _, _ = train_test_split(attention_masks, input_ids,\n",
    "                                             random_state=2018, test_size=0.1)"
   ]
  },
  {
   "cell_type": "markdown",
   "metadata": {},
   "source": [
    "Let's make our data compatible with our model by converting it to the proper datatype."
   ]
  },
  {
   "cell_type": "code",
   "execution_count": 13,
   "metadata": {},
   "outputs": [],
   "source": [
    "# Convert all of our data into torch tensors, the required datatype for our model\n",
    "\n",
    "train_inputs = torch.tensor(train_inputs, dtype=torch.long)\n",
    "validation_inputs = torch.tensor(validation_inputs, dtype=torch.long)\n",
    "train_labels = torch.tensor(train_labels, dtype=torch.long)\n",
    "validation_labels = torch.tensor(validation_labels, dtype=torch.long)\n",
    "train_masks = torch.tensor(train_masks, dtype=torch.long)\n",
    "validation_masks = torch.tensor(validation_masks, dtype=torch.long)"
   ]
  },
  {
   "cell_type": "markdown",
   "metadata": {},
   "source": [
    "Create our DataLoaders for our training loop later. This will allow us to iterate through the dataset by batches."
   ]
  },
  {
   "cell_type": "code",
   "execution_count": 14,
   "metadata": {},
   "outputs": [],
   "source": [
    "# Select a batch size for training. For fine-tuning BERT on a specific task, the authors recommend a batch size of 16 or 32\n",
    "batch_size = 32\n",
    "\n",
    "# Create an iterator of our data with torch DataLoader. This helps save on memory during training because, unlike a for loop, \n",
    "# with an iterator the entire dataset does not need to be loaded into memory\n",
    "\n",
    "train_data = TensorDataset(train_inputs, train_masks, train_labels)\n",
    "train_sampler = RandomSampler(train_data)\n",
    "train_dataloader = DataLoader(train_data, sampler=train_sampler, batch_size=batch_size)\n",
    "\n",
    "validation_data = TensorDataset(validation_inputs, validation_masks, validation_labels)\n",
    "validation_sampler = SequentialSampler(validation_data)\n",
    "validation_dataloader = DataLoader(validation_data, sampler=validation_sampler, batch_size=batch_size)\n"
   ]
  },
  {
   "cell_type": "markdown",
   "metadata": {},
   "source": [
    "Load in our pretrained BERT model. Modifying num_labels would change the number of outputs the last layer would yield out."
   ]
  },
  {
   "cell_type": "code",
   "execution_count": 15,
   "metadata": {},
   "outputs": [],
   "source": [
    "model = BertForSequenceClassification.from_pretrained(\"bert-base-uncased\", num_labels=4)"
   ]
  },
  {
   "cell_type": "markdown",
   "metadata": {},
   "source": [
    "For our optimizer we'll be choosing BertAdam. The difference between BertAdam and Adam are the following:\n",
    "- BertAdam implements weight decay fix,\n",
    "- BertAdam doesn't compensate for bias as in the regular Adam optimizer."
   ]
  },
  {
   "cell_type": "code",
   "execution_count": 16,
   "metadata": {},
   "outputs": [],
   "source": [
    "param_optimizer = list(model.named_parameters())\n",
    "no_decay = ['bias', 'gamma', 'beta']\n",
    "optimizer_grouped_parameters = [\n",
    "    {'params': [p for n, p in param_optimizer if not any(nd in n for nd in no_decay)],\n",
    "     'weight_decay_rate': 0.01},\n",
    "    {'params': [p for n, p in param_optimizer if any(nd in n for nd in no_decay)],\n",
    "     'weight_decay_rate': 0.0}\n",
    "]"
   ]
  },
  {
   "cell_type": "markdown",
   "metadata": {},
   "source": [
    "For our optimizer we'll be choosing BertAdam. The difference between BertAdam and Adam are the following:\n",
    "- BertAdam implements weight decay fix,\n",
    "- BertAdam doesn't compensate for bias as in the regular Adam optimizer."
   ]
  },
  {
   "cell_type": "code",
   "execution_count": 17,
   "metadata": {},
   "outputs": [
    {
     "name": "stderr",
     "output_type": "stream",
     "text": [
      "t_total value of -1 results in schedule not being applied\n"
     ]
    }
   ],
   "source": [
    "# This variable contains all of the hyperparemeter information our training loop needs\n",
    "optimizer = BertAdam(optimizer_grouped_parameters,\n",
    "                     lr=2e-5,\n",
    "                     warmup=.1)"
   ]
  },
  {
   "cell_type": "markdown",
   "metadata": {},
   "source": [
    "Create the flat_accuracy function to convert our model outputs from scores to its predicted labels then calculate the accuracy by comparing it with the true labels. Let's add in the training loop as well. "
   ]
  },
  {
   "cell_type": "code",
   "execution_count": 18,
   "metadata": {
    "scrolled": true
   },
   "outputs": [
    {
     "name": "stderr",
     "output_type": "stream",
     "text": [
      "\r",
      "Epoch:   0%|          | 0/4 [00:00<?, ?it/s]"
     ]
    },
    {
     "name": "stdout",
     "output_type": "stream",
     "text": [
      "Train loss: 0.4426473255187685\n"
     ]
    },
    {
     "name": "stderr",
     "output_type": "stream",
     "text": [
      "\r",
      "Epoch:  25%|██▌       | 1/4 [1:05:23<3:16:09, 3923.27s/it]"
     ]
    },
    {
     "name": "stdout",
     "output_type": "stream",
     "text": [
      "Validation Accuracy: 0.88\n",
      "Train loss: 0.21176936865402257\n"
     ]
    },
    {
     "name": "stderr",
     "output_type": "stream",
     "text": [
      "\r",
      "Epoch:  50%|█████     | 2/4 [2:10:41<2:10:43, 3921.84s/it]"
     ]
    },
    {
     "name": "stdout",
     "output_type": "stream",
     "text": [
      "Validation Accuracy: 0.89125\n",
      "Train loss: 0.13305053268537817\n"
     ]
    },
    {
     "name": "stderr",
     "output_type": "stream",
     "text": [
      "\r",
      "Epoch:  75%|███████▌  | 3/4 [3:16:15<1:05:25, 3925.43s/it]"
     ]
    },
    {
     "name": "stdout",
     "output_type": "stream",
     "text": [
      "Validation Accuracy: 0.88625\n",
      "Train loss: 0.09248138675552016\n"
     ]
    },
    {
     "name": "stderr",
     "output_type": "stream",
     "text": [
      "Epoch: 100%|██████████| 4/4 [4:21:54<00:00, 3928.58s/it]  "
     ]
    },
    {
     "name": "stdout",
     "output_type": "stream",
     "text": [
      "Validation Accuracy: 0.895\n"
     ]
    },
    {
     "name": "stderr",
     "output_type": "stream",
     "text": [
      "\n"
     ]
    }
   ],
   "source": [
    "# Function to calculate the accuracy of our predictions vs labels\n",
    "def flat_accuracy(preds, labels):\n",
    "    pred_flat = np.argmax(preds, axis=1).flatten()\n",
    "    labels_flat = labels.flatten()\n",
    "    return np.sum(pred_flat == labels_flat) / len(labels_flat)\n",
    "\n",
    "train_loss_set = []\n",
    "\n",
    "# Number of training epochs (authors recommend between 2 and 4)\n",
    "epochs = 4\n",
    "\n",
    "# trange is a tqdm wrapper around the normal python range\n",
    "for _ in trange(epochs, desc=\"Epoch\"):\n",
    "    # Training\n",
    "  \n",
    "    # Set our model to training mode (as opposed to evaluation mode)\n",
    "    model.train()\n",
    "  \n",
    "    # Tracking variables\n",
    "    tr_loss = 0\n",
    "    nb_tr_examples, nb_tr_steps = 0, 0\n",
    "  \n",
    "    # Train the data for one epoch\n",
    "#     print(\"train\")\n",
    "    for step, batch in enumerate(train_dataloader):\n",
    "#         print(str(step+1) + '/' + '217 : ' + 'Epoch : ' + str(_ + 1))\n",
    "        # Add batch to GPU\n",
    "        batch = tuple(t.to(device) for t in batch)\n",
    "        # Unpack the inputs from our dataloader\n",
    "        b_input_ids, b_input_mask, b_labels = batch\n",
    "        # Clear out the gradients (by default they accumulate)\n",
    "        optimizer.zero_grad()\n",
    "        # Forward pass\n",
    "        loss = model(b_input_ids, token_type_ids=None, attention_mask=b_input_mask, labels=b_labels)\n",
    "\n",
    "        train_loss_set.append(loss.item())    \n",
    "        # Backward pass\n",
    "        loss.backward()\n",
    "        # Update parameters and take a step using the computed gradient\n",
    "        optimizer.step()\n",
    "\n",
    "\n",
    "        # Update tracking variables\n",
    "        tr_loss += loss.item()\n",
    "        nb_tr_examples += b_input_ids.size(0)\n",
    "        nb_tr_steps += 1\n",
    "\n",
    "\n",
    "    print(\"Train loss: {}\".format(tr_loss/nb_tr_steps))\n",
    "\n",
    "    \n",
    "    # Validation\n",
    "\n",
    "    # Put model in evaluation mode to evaluate loss on the validation set\n",
    "    model.eval()\n",
    "\n",
    "    # Tracking variables \n",
    "    eval_loss, eval_accuracy = 0, 0\n",
    "    nb_eval_steps, nb_eval_examples = 0, 0\n",
    "\n",
    "    # Evaluate data for one epoch\n",
    "#     print(\"evaluation\")\n",
    "    for step, batch in enumerate(validation_dataloader):\n",
    "#         print(str(step+1) + '/' + '25 : ' + 'Epoch : ' + str(_ + 1))\n",
    "        # Add batch to GPU\n",
    "        batch = tuple(t.to(device) for t in batch)\n",
    "        # Unpack the inputs from our dataloader\n",
    "        b_input_ids, b_input_mask, b_labels = batch\n",
    "        # Telling the model not to compute or store gradients, saving memory and speeding up validation\n",
    "        with torch.no_grad():\n",
    "          # Forward pass, calculate logit predictions\n",
    "          logits = model(b_input_ids, token_type_ids=None, attention_mask=b_input_mask)\n",
    "    \n",
    "        # Move logits and labels to CPU\n",
    "        logits = logits.detach().cpu().numpy()\n",
    "        label_ids = b_labels.to('cpu').numpy()\n",
    "\n",
    "        tmp_eval_accuracy = flat_accuracy(logits, label_ids)\n",
    "\n",
    "        eval_accuracy += tmp_eval_accuracy\n",
    "        nb_eval_steps += 1\n",
    "\n",
    "    \n",
    "    print(\"Validation Accuracy: {}\".format(eval_accuracy/nb_eval_steps))\n",
    "\n",
    "torch.save(model.state_dict(), 'model.pt')"
   ]
  },
  {
   "cell_type": "markdown",
   "metadata": {},
   "source": [
    "Check the result of our training by plotting the training loss."
   ]
  },
  {
   "cell_type": "code",
   "execution_count": 19,
   "metadata": {
    "scrolled": true
   },
   "outputs": [
    {
     "data": {
      "image/png": "[encoded data removed]",
      "text/plain": [
       "<Figure size 1080x576 with 1 Axes>"
      ]
     },
     "metadata": {
      "needs_background": "light"
     },
     "output_type": "display_data"
    }
   ],
   "source": [
    "plt.figure(figsize=(15,8))\n",
    "plt.title(\"Training loss\")\n",
    "plt.xlabel(\"Batch\")\n",
    "plt.ylabel(\"Loss\")\n",
    "plt.plot(train_loss_set)\n",
    "plt.show()"
   ]
  },
  {
   "cell_type": "markdown",
   "metadata": {},
   "source": [
    "Let's now evaluate our model on data that it has never seen before. Apply the same pre-processing step for our test data."
   ]
  },
  {
   "cell_type": "code",
   "execution_count": 20,
   "metadata": {},
   "outputs": [],
   "source": [
    "test['Category'] = test['Category'].astype('category')\n",
    "test['Category'] = test['Category'].cat.codes\n",
    "# Create sentence and label lists\n",
    "sentences = test.Content.values\n",
    "\n",
    "# We need to add special tokens at the beginning and end of each sentence for BERT to work properly\n",
    "sentences = [\"[CLS] \" + sentence + \" [SEP]\" for sentence in sentences]\n",
    "labels = testCheck the true_labels array to see the \"correct\" labels of each input..Category.values"
   ]
  },
  {
   "cell_type": "markdown",
   "metadata": {},
   "source": [
    "Pre-process our test data and tokenize the text. Load our test dataset to a DataLoader so that we can iterate by batch for our evaluation loop."
   ]
  },
  {
   "cell_type": "code",
   "execution_count": 21,
   "metadata": {},
   "outputs": [],
   "source": [
    "tokenized_texts = [tokenizer.tokenize(sent) for sent in sentences]\n",
    "\n",
    "\n",
    "MAX_LEN = 128\n",
    "# Use the BERT tokenizer to convert the tokens to their index numbers in the BERT vocabulary\n",
    "input_ids = [tokenizer.convert_tokens_to_ids(x) for x in tokenized_texts]\n",
    "# Pad our input tokens\n",
    "input_ids = pad_sequences(input_ids, maxlen=MAX_LEN, dtype=\"long\", truncating=\"post\", padding=\"post\")\n",
    "# Create attention masks\n",
    "attention_masks = []\n",
    "\n",
    "# Create a mask of 1s for each token followed by 0s for padding\n",
    "for seq in input_ids:\n",
    "    seq_mask = [float(i>0) for i in seq]\n",
    "    attention_masks.append(seq_mask) \n",
    "\n",
    "prediction_inputs = torch.tensor(input_ids, dtype=torch.long)\n",
    "prediction_masks = torch.tensor(attention_masks, dtype=torch.long)\n",
    "prediction_labels = torch.tensor(labels, dtype=torch.long)\n",
    "  \n",
    "batch_size = 32  \n",
    "\n",
    "\n",
    "prediction_data = TensorDataset(prediction_inputs, prediction_masks, prediction_labels)\n",
    "prediction_sampler = SequentialSampler(prediction_data)\n",
    "prediction_dataloader = DataLoader(prediction_data, sampler=prediction_sampler, batch_size=batch_size)"
   ]
  },
  {
   "cell_type": "markdown",
   "metadata": {},
   "source": [
    "Feed the test data to the model."
   ]
  },
  {
   "cell_type": "code",
   "execution_count": 22,
   "metadata": {},
   "outputs": [
    {
     "name": "stdout",
     "output_type": "stream",
     "text": [
      "Batch num: 1\n",
      "Batch num: 2\n",
      "Batch num: 3\n",
      "Batch num: 4\n",
      "Batch num: 5\n",
      "Batch num: 6\n",
      "Batch num: 7\n",
      "Batch num: 8\n",
      "Batch num: 9\n",
      "Batch num: 10\n",
      "Batch num: 11\n",
      "Batch num: 12\n",
      "Batch num: 13\n"
     ]
    }
   ],
   "source": [
    "# Prediction on test set\n",
    "\n",
    "# Put model in evaluation mode\n",
    "model.eval()\n",
    "\n",
    "# Tracking variables \n",
    "predictions, true_labels = [], []\n",
    "\n",
    "# Predict \n",
    "for step, batch in enumerate(prediction_dataloader):\n",
    "    print(\"Batch num: \" + str(step+1))\n",
    "    # Add batch to GPU\n",
    "    batch = tuple(t.to(device) for t in batch)\n",
    "    # Unpack the inputs from our dataloader\n",
    "    b_input_ids, b_input_mask, b_labels = batch\n",
    "    # Telling the model not to compute or store gradients, saving memory and speeding up prediction\n",
    "    with torch.no_grad():\n",
    "        # Forward pass, calculate logit predictions\n",
    "        logits = model(b_input_ids, token_type_ids=None, attention_mask=b_input_mask)\n",
    "\n",
    "    # Move logits and labels to CPU\n",
    "    logits = logits.detach().cpu().numpy()\n",
    "    label_ids = b_labels.to('cpu').numpy()\n",
    "\n",
    "    # Store predictions and true labels\n",
    "    predictions.append(logits)\n",
    "    true_labels.append(label_ids)\n"
   ]
  },
  {
   "cell_type": "markdown",
   "metadata": {},
   "source": [
    "Check the output of the model. (We still need to use argmax for it to choose the label with the highest score)"
   ]
  },
  {
   "cell_type": "code",
   "execution_count": 23,
   "metadata": {},
   "outputs": [
    {
     "data": {
      "text/plain": [
       "[array([[-1.9586426e+00, -2.8379362e+00, -1.0753717e+00,  5.0994287e+00],\n",
       "        [-1.7548183e+00, -2.8589425e+00, -1.4181907e+00,  5.3687181e+00],\n",
       "        [-1.8078938e+00, -2.8976665e+00, -1.3530729e+00,  5.3934841e+00],\n",
       "        [-1.8222904e+00, -2.9892435e+00, -1.1579009e+00,  5.2481389e+00],\n",
       "        [-1.8439908e+00, -2.4888144e+00, -1.7104659e+00,  5.3223720e+00],\n",
       "        [ 1.1331377e+00, -3.3681760e+00, -2.9067638e+00,  4.0798621e+00],\n",
       "        [-2.0960412e+00, -1.6579634e+00, -1.8988057e+00,  5.1960158e+00],\n",
       "        [-1.3473339e+00, -2.8525472e+00, -1.8918185e+00,  5.3781881e+00],\n",
       "        [-2.0457518e+00,  6.8972409e-01, -2.2260437e+00,  3.1899357e+00],\n",
       "        [-1.2802944e+00, -3.2775493e+00, -1.5518001e+00,  5.3272777e+00],\n",
       "        [ 4.1301422e+00, -3.7588973e+00, -2.1411061e+00,  1.3385808e+00],\n",
       "        [-1.5347923e+00, -2.9879894e+00, -1.5694840e+00,  5.4381032e+00],\n",
       "        [-2.3563266e+00, -2.1533961e+00, -1.0970583e+00,  4.6661696e+00],\n",
       "        [-2.0108852e+00, -2.0917988e+00, -1.7452434e+00,  5.3167458e+00],\n",
       "        [-1.7985779e+00, -2.9009910e+00, -1.3868440e+00,  5.2706985e+00],\n",
       "        [-1.8813093e+00, -2.4921367e+00, -1.6820172e+00,  5.2275782e+00],\n",
       "        [-2.1273136e+00, -1.3404934e+00, -2.2987196e+00,  5.1153917e+00],\n",
       "        [-1.1609192e+00, -2.2781658e+00, -2.2833688e+00,  5.1781721e+00],\n",
       "        [ 2.9904885e+00, -3.8872240e+00, -2.6986952e+00,  2.4738438e+00],\n",
       "        [ 3.6974043e-01, -3.2167003e+00, -2.3934219e+00,  3.6072812e+00],\n",
       "        [ 3.5617834e-01, -3.7120969e+00, -2.2908025e+00,  4.7442241e+00],\n",
       "        [-1.0762228e+00, -3.3825324e+00, -1.7220876e+00,  5.3434405e+00],\n",
       "        [-6.2020266e-01, -2.1844928e+00,  1.4490353e+00,  9.3465936e-01],\n",
       "        [-1.6747675e+00, -1.8908570e+00, -2.3197877e+00,  4.7918739e+00],\n",
       "        [-8.0695546e-01,  2.8501719e-01, -1.9365159e+00,  2.8898060e+00],\n",
       "        [-1.6744142e+00, -3.3358190e+00,  6.1146717e+00, -1.6683565e+00],\n",
       "        [-1.6212848e+00, -2.9446688e+00, -1.5863593e+00,  5.3928556e+00],\n",
       "        [-3.8000867e-03, -3.1985350e+00, -2.3742614e+00,  5.0022964e+00],\n",
       "        [-1.1762409e+00, -2.3687062e+00, -1.6381342e+00,  3.7757394e+00],\n",
       "        [ 8.6829412e-01, -3.1527398e+00, -2.6146791e+00,  3.3109684e+00],\n",
       "        [-2.1370840e+00, -2.5243003e+00, -1.1655405e+00,  4.8603806e+00],\n",
       "        [-1.1766145e+00, -2.0595388e+00, -2.4919951e+00,  5.1733150e+00]],\n",
       "       dtype=float32),\n",
       " array([[ 1.3697479 , -2.7214842 , -1.7424752 ,  2.732184  ],\n",
       "        [-1.5321654 , -2.7970657 , -1.7141864 ,  5.3297853 ],\n",
       "        [-0.69184893, -2.2980652 , -2.698706  ,  4.616074  ],\n",
       "        [-1.6190975 , -2.6505733 , -1.7466233 ,  5.233005  ],\n",
       "        [-1.1738203 , -2.666891  , -2.0568275 ,  4.591567  ],\n",
       "        [-1.5673325 , -3.114327  ,  6.0826135 , -1.7960564 ],\n",
       "        [ 2.5514739 , -3.4182925 , -1.6330123 ,  2.1533813 ],\n",
       "        [-1.4802207 , -2.66136   , -1.4345365 ,  3.9669318 ],\n",
       "        [-1.4586269 , -1.9976485 , -2.473545  ,  5.0360746 ],\n",
       "        [-0.20498762, -3.981724  , -1.8825523 ,  4.8610363 ],\n",
       "        [-1.4980764 , -2.7605658 , -1.710234  ,  5.080204  ],\n",
       "        [-1.8064069 , -2.6429412 , -1.5525842 ,  5.20247   ],\n",
       "        [-0.97584784, -3.4374323 , -1.850152  ,  5.185278  ],\n",
       "        [-0.7520795 , -2.8798482 , -2.216216  ,  5.261573  ],\n",
       "        [-1.2298243 , -1.4092909 , -2.7621503 ,  4.754317  ],\n",
       "        [-1.39059   , -1.7333144 , -2.201829  ,  3.8538158 ],\n",
       "        [-1.3688718 , -2.7185946 , -1.865207  ,  5.362282  ],\n",
       "        [-1.8223853 , -2.2438986 , -1.5464301 ,  5.11916   ],\n",
       "        [-0.19971636, -3.0405564 , -2.2951944 ,  4.389983  ],\n",
       "        [-1.7185234 , -2.9102407 , -1.3905094 ,  5.326994  ],\n",
       "        [-2.1019213 , -2.5289207 , -1.4639294 ,  5.263213  ],\n",
       "        [-2.0696788 , -2.1922636 , -1.5564632 ,  4.368623  ],\n",
       "        [-2.0029483 , -2.0329766 , -1.9047633 ,  5.234247  ],\n",
       "        [-1.6476299 , -2.2267096 , -1.8548517 ,  4.704562  ],\n",
       "        [-1.7058203 , -2.7017708 , -1.6709287 ,  5.2794304 ],\n",
       "        [-1.7207958 , -1.7875127 , -2.0550344 ,  4.1404157 ],\n",
       "        [-1.8931069 , -2.5312295 , -1.4640398 ,  4.845384  ],\n",
       "        [ 3.4902174 , -3.3665457 , -2.9601674 ,  2.0831845 ],\n",
       "        [-0.9466896 , -3.3631992 , -1.9264808 ,  5.1302695 ],\n",
       "        [-1.4537382 , -2.8689423 , -1.837178  ,  5.360407  ],\n",
       "        [-0.42239326, -3.2772899 , -2.2628121 ,  5.135441  ],\n",
       "        [ 2.7481074 , -3.9007835 , -2.7362902 ,  2.6650317 ]],\n",
       "       dtype=float32),\n",
       " array([[ 0.1389645 , -3.1777468 , -2.528082  ,  4.8773117 ],\n",
       "        [-2.0048091 , -2.6372023 , -1.3446648 ,  5.1615214 ],\n",
       "        [-0.96382546, -0.3739009 , -3.109182  ,  3.9384267 ],\n",
       "        [-2.2426703 , -2.9581203 , -0.26634085,  4.312913  ],\n",
       "        [-1.4626015 , -3.1306086 , -1.4088016 ,  5.2182097 ],\n",
       "        [-1.1727523 , -2.8043666 , -2.0029528 ,  4.584126  ],\n",
       "        [-1.4351108 , -2.9088044 , -1.8895984 ,  5.3451605 ],\n",
       "        [-0.97723764, -3.2039783 , -2.0706449 ,  5.0784674 ],\n",
       "        [ 0.4946377 , -3.7547488 , -2.4825528 ,  4.626736  ],\n",
       "        [-0.82748574, -1.9985707 , -2.487595  ,  3.8278499 ],\n",
       "        [-1.7497276 , -2.479227  , -1.6952764 ,  5.2458334 ],\n",
       "        [ 0.05116544, -3.0293922 , -2.5612242 ,  4.09675   ],\n",
       "        [-0.17314798, -3.782017  , -2.0855625 ,  4.9074945 ],\n",
       "        [ 2.1040149 , -3.451775  , -2.9928935 ,  3.271899  ],\n",
       "        [-2.0562398 , -2.2960885 , -1.4450047 ,  4.3611317 ],\n",
       "        [-2.0951633 , -2.9242616 , -0.85769135,  5.0016947 ],\n",
       "        [-1.4211015 , -2.800276  , -1.8347505 ,  4.534307  ],\n",
       "        [ 1.3719691 , -4.031888  , -2.4118896 ,  3.773849  ],\n",
       "        [ 0.01346634, -3.1487327 , -2.5979564 ,  4.9564004 ],\n",
       "        [ 0.9637089 , -3.366316  , -2.8280885 ,  4.435015  ],\n",
       "        [ 2.312993  , -3.8584263 , -2.6311827 ,  2.9136808 ],\n",
       "        [ 1.1958511 , -1.7899963 , -2.8097095 ,  2.996077  ],\n",
       "        [-1.9426147 , -3.0780578 , -0.86685294,  5.1518755 ],\n",
       "        [ 2.626832  , -4.681244  , -1.3847373 ,  1.9466007 ],\n",
       "        [ 0.5712331 , -4.0205874 , -2.2486398 ,  4.616678  ],\n",
       "        [-1.6021173 , -2.0999713 , -1.9729662 ,  5.174345  ],\n",
       "        [-1.3538203 , -3.1159763 , -1.5949155 ,  5.411103  ],\n",
       "        [-0.5266412 , -2.363669  , -0.21949512,  2.2332087 ],\n",
       "        [-1.2385786 , -1.5243795 , -2.368793  ,  4.0992823 ],\n",
       "        [-1.0456696 , -3.2280135 , -1.9143063 ,  5.241814  ],\n",
       "        [-0.3914855 , -3.2365127 , -2.270324  ,  4.453903  ],\n",
       "        [-1.9214909 ,  0.31041366, -2.6816554 ,  4.3251047 ]],\n",
       "       dtype=float32),\n",
       " array([[ 1.8697015 , -2.9647446 , -2.8539214 ,  3.2071729 ],\n",
       "        [ 0.99071085, -3.9715865 , -2.4206336 ,  4.161238  ],\n",
       "        [-1.3497369 , -2.1916625 , -2.2651117 ,  5.2705574 ],\n",
       "        [-0.6601317 , -3.5435011 , -1.8863989 ,  5.2229824 ],\n",
       "        [-2.5577145 ,  4.4752393 , -2.4872413 , -0.11362663],\n",
       "        [-2.1742244 ,  4.3585114 , -2.2074394 , -0.61839825],\n",
       "        [-2.1407404 ,  4.0153785 , -2.8332214 ,  0.8044874 ],\n",
       "        [-2.4053178 ,  5.6354017 , -2.913852  , -0.31828278],\n",
       "        [-2.3645022 ,  3.759296  , -2.4132686 ,  0.08961774],\n",
       "        [-3.2108173 ,  4.7098284 , -2.8551507 ,  1.2361093 ],\n",
       "        [-2.408128  ,  6.370697  , -2.5297623 , -0.9215687 ],\n",
       "        [-2.6759136 ,  6.209138  , -2.5003576 , -0.73901445],\n",
       "        [-2.818241  ,  5.4233174 , -2.0394983 , -0.57515323],\n",
       "        [-2.4808228 ,  6.3746843 , -2.6406224 , -0.6672016 ],\n",
       "        [-2.6508107 ,  5.914474  , -2.4931026 , -0.62395084],\n",
       "        [-2.7771106 ,  5.6689463 , -2.6439946 , -0.53825915],\n",
       "        [-1.9557611 ,  4.945797  , -2.4014087 ,  0.49991137],\n",
       "        [-2.3752491 ,  6.0674777 , -2.5174317 , -0.45360395],\n",
       "        [-2.6475873 ,  6.2092857 , -2.5225754 , -0.75355583],\n",
       "        [-2.5044553 ,  4.9979677 , -2.334516  , -0.4786398 ],\n",
       "        [-2.6674943 ,  6.0990696 , -2.61911   , -0.48035473],\n",
       "        [-2.5970862 ,  5.1412115 , -2.233755  , -0.6815276 ],\n",
       "        [-2.624369  ,  6.0668926 , -2.5150967 , -0.70062655],\n",
       "        [-2.5230975 ,  5.939333  , -2.4654567 , -0.8749168 ],\n",
       "        [-2.4488993 ,  4.6350226 , -2.0225277 , -0.7299547 ],\n",
       "        [-2.5815856 ,  6.2485137 , -2.4716275 , -0.8044478 ],\n",
       "        [-2.7259164 ,  5.8704495 , -2.6353378 , -0.49403968],\n",
       "        [-2.665587  ,  6.2280703 , -2.480884  , -0.772081  ],\n",
       "        [-2.637868  ,  5.9952    , -2.5830557 , -0.80088073],\n",
       "        [-2.7029004 ,  5.6458397 , -2.7515173 , -0.37251806],\n",
       "        [-2.7159767 ,  6.0574274 , -2.538554  , -0.79620457],\n",
       "        [-2.606305  ,  6.142933  , -2.5471225 , -0.83492184]],\n",
       "       dtype=float32),\n",
       " array([[-2.6717253 ,  6.023909  , -2.4524846 , -0.8277305 ],\n",
       "        [-2.3188972 ,  4.281957  , -2.5508296 , -0.26040548],\n",
       "        [-2.4935222 ,  5.48329   , -2.3087926 , -0.8652606 ],\n",
       "        [-2.7116225 ,  5.3158736 , -2.49261   , -0.56649435],\n",
       "        [-2.5071878 ,  4.5233016 , -2.2711008 , -0.48632115],\n",
       "        [-2.73137   ,  5.769036  , -2.536181  , -0.4571036 ],\n",
       "        [-2.5574865 ,  5.1565323 , -2.4987044 , -0.5467635 ],\n",
       "        [-2.6589737 ,  5.5837865 , -2.4394064 , -0.77825826],\n",
       "        [-2.433621  ,  6.0462046 , -2.4554243 , -0.9855665 ],\n",
       "        [-2.6228585 ,  5.9870377 , -2.5653286 , -0.8094628 ],\n",
       "        [-2.481239  ,  5.4581842 , -2.436897  , -0.777605  ],\n",
       "        [-2.477655  ,  6.3258667 , -2.6545558 , -0.8557211 ],\n",
       "        [-2.2184882 ,  5.8300653 , -2.707315  , -0.28083777],\n",
       "        [-2.3770468 ,  6.2547774 , -2.4954934 , -0.8466462 ],\n",
       "        [-2.544851  ,  6.003869  , -2.2749598 , -0.9872904 ],\n",
       "        [-2.7465582 ,  5.944875  , -2.5979075 , -0.6152521 ],\n",
       "        [-2.5188909 ,  5.1110187 , -2.7408006 , -0.3507008 ],\n",
       "        [-2.3014424 ,  3.4314241 , -2.258675  ,  0.05678348],\n",
       "        [-2.8489535 ,  5.406293  , -2.8720937 , -0.02957426],\n",
       "        [-2.6577353 ,  5.630415  , -2.7146964 , -0.5312342 ],\n",
       "        [-2.5993645 ,  5.709714  , -2.6959982 , -0.57326657],\n",
       "        [-2.7173953 ,  6.146368  , -2.9987175 , -0.24162288],\n",
       "        [-2.7846622 ,  5.69631   , -2.7151148 , -0.37928465],\n",
       "        [-2.498425  ,  4.623479  , -2.346744  , -0.35951373],\n",
       "        [-2.800189  ,  5.620344  , -2.7427375 , -0.41571277],\n",
       "        [-2.5898435 ,  5.006138  , -2.6040564 , -0.41275653],\n",
       "        [-1.448687  , -0.16310275, -2.7077498 ,  4.0278916 ],\n",
       "        [-1.9322444 ,  5.4799333 , -2.1619272 , -1.4108129 ],\n",
       "        [-2.4749131 ,  6.4765167 , -2.4184427 , -0.9360459 ],\n",
       "        [-2.5706596 ,  6.121503  , -2.453032  , -0.62748045],\n",
       "        [-2.064112  ,  6.0913057 , -2.7902472 , -0.46896774],\n",
       "        [-2.6189997 ,  5.846744  , -2.6049273 , -0.6331055 ]],\n",
       "       dtype=float32),\n",
       " array([[-2.5457084 ,  6.0649333 , -2.6107163 , -0.6922458 ],\n",
       "        [-2.8047614 ,  6.1008987 , -2.6079786 , -0.64339393],\n",
       "        [-2.6924703 ,  6.199246  , -2.7067666 , -0.6520505 ],\n",
       "        [-2.6094975 ,  6.1278634 , -2.524454  , -0.7102078 ],\n",
       "        [-0.6641151 ,  5.2194815 , -2.1874256 , -0.8008367 ],\n",
       "        [ 0.31277326,  2.74468   , -3.4585223 ,  0.65938133],\n",
       "        [-0.5050304 ,  5.0870056 , -2.8665495 , -0.5304474 ],\n",
       "        [-2.5627184 ,  6.116726  , -2.8847938 , -0.5647734 ],\n",
       "        [-2.6888118 ,  5.070183  , -2.9888642 ,  0.736081  ],\n",
       "        [-2.720357  ,  5.962922  , -2.5789447 , -0.6136234 ],\n",
       "        [-2.922636  ,  5.8171864 , -2.4510517 , -0.58366275],\n",
       "        [-2.6115625 ,  4.6923394 , -2.4021015 , -0.24808899],\n",
       "        [-2.8586512 ,  4.0010467 , -3.0695226 ,  2.1175046 ],\n",
       "        [-2.3765752 ,  4.8390484 , -2.503635  , -0.50403744],\n",
       "        [-2.7362354 ,  5.937233  , -1.932362  , -0.9049307 ],\n",
       "        [-2.6598487 ,  6.1262493 , -2.7629137 , -0.604676  ],\n",
       "        [-2.542142  ,  5.874578  , -2.6818678 , -0.6416607 ],\n",
       "        [-2.7667089 ,  5.553203  , -2.7770014 , -0.4137801 ],\n",
       "        [-2.4783907 ,  4.5626135 , -2.6557655 , -0.07565519],\n",
       "        [-2.754229  ,  6.0773034 , -2.6893642 , -0.5572736 ],\n",
       "        [-2.6690578 ,  6.0726757 , -2.601996  , -0.64108264],\n",
       "        [-2.6798925 ,  5.9160314 , -2.722665  , -0.49663824],\n",
       "        [-0.29550892,  5.4293513 , -3.1860373 , -0.90476656],\n",
       "        [-2.6535864 ,  6.106024  , -2.8134215 , -0.5844996 ],\n",
       "        [-2.596384  ,  6.256766  , -2.706277  , -0.59523314],\n",
       "        [-2.3441086 ,  6.3068323 , -2.7756033 , -0.84923476],\n",
       "        [-2.3857927 ,  6.26863   , -2.4525228 , -0.7048406 ],\n",
       "        [-2.5140805 ,  6.007435  , -2.7547393 , -0.42799646],\n",
       "        [-2.5186763 ,  5.9581156 , -2.670199  , -0.7436047 ],\n",
       "        [-2.8004951 ,  5.7298937 , -2.642724  , -0.46064058],\n",
       "        [-2.530889  ,  4.3551307 , -2.426208  , -0.2577958 ],\n",
       "        [-0.0838922 , -2.0545874 , -0.47411132,  2.0200374 ]],\n",
       "       dtype=float32),\n",
       " array([[-1.6792812 , -2.880263  ,  5.7839127 , -1.8214844 ],\n",
       "        [-2.7431352 ,  5.9419575 , -2.4590921 , -0.693178  ],\n",
       "        [-2.4075797 ,  4.508747  , -2.181436  , -0.4869104 ],\n",
       "        [-2.4980977 ,  4.8948326 , -2.5056531 , -0.4753569 ],\n",
       "        [-2.463072  ,  4.415762  , -2.3371606 , -0.3299666 ],\n",
       "        [-2.7200809 ,  5.465304  , -2.4829502 , -0.57754105],\n",
       "        [-2.534492  ,  6.318016  , -2.2117405 , -1.060005  ],\n",
       "        [-2.5266688 ,  6.079858  , -2.7876766 , -0.51356226],\n",
       "        [-1.9151225 , -3.1773424 ,  5.356757  , -0.9544106 ],\n",
       "        [-1.9304695 , -2.567174  ,  4.763053  , -0.9105735 ],\n",
       "        [-1.3665277 , -3.8136306 ,  4.4970713 , -0.21731178],\n",
       "        [-1.7163513 , -3.0666676 ,  6.18033   , -1.8651063 ],\n",
       "        [-1.9538401 , -3.6440113 ,  5.7737627 , -1.183727  ],\n",
       "        [-1.7889538 , -3.0123293 ,  6.04579   , -1.8756993 ],\n",
       "        [-1.6988231 , -3.1201    ,  6.16772   , -1.8815329 ],\n",
       "        [-2.0302587 , -2.7169845 ,  5.5679045 , -1.6267743 ],\n",
       "        [-1.8360469 , -3.2113886 ,  5.8572674 , -1.4369235 ],\n",
       "        [-1.7160904 , -3.012938  ,  6.1809564 , -1.9122827 ],\n",
       "        [-1.7150012 , -3.136837  ,  6.1820526 , -1.8095413 ],\n",
       "        [-1.7578034 , -3.0039983 ,  6.2034273 , -1.9031657 ],\n",
       "        [-1.6602943 , -3.2633262 ,  6.1647854 , -1.762171  ],\n",
       "        [-1.8447316 , -3.5607805 ,  5.8366737 , -1.253583  ],\n",
       "        [-2.1214256 , -3.1466475 ,  5.8924203 , -1.3278728 ],\n",
       "        [-1.7588208 , -3.1730642 ,  6.025304  , -1.7492843 ],\n",
       "        [-1.7344208 , -3.437319  ,  6.1297255 , -1.5232167 ],\n",
       "        [-1.7556064 , -3.2649324 ,  6.16819   , -1.6990895 ],\n",
       "        [-1.6697142 , -3.2580075 ,  6.1530323 , -1.7174892 ],\n",
       "        [-1.6772871 , -3.0226886 ,  5.998182  , -1.8108275 ],\n",
       "        [-1.7209878 , -3.3521879 ,  6.128452  , -1.6347415 ],\n",
       "        [-1.7105387 , -3.0519824 ,  6.1627526 , -1.822532  ],\n",
       "        [-1.7400978 , -3.0259094 ,  5.993428  , -1.772449  ],\n",
       "        [-1.7311066 , -3.3496718 ,  6.1434026 , -1.6151443 ]],\n",
       "       dtype=float32),\n",
       " array([[-1.6781877 , -3.4197135 ,  6.0813885 , -1.6195012 ],\n",
       "        [-1.734318  , -3.5151672 ,  6.0344343 , -1.4572452 ],\n",
       "        [-1.6426969 , -3.5041986 ,  6.0183535 , -1.5725777 ],\n",
       "        [-1.6908157 , -3.2678535 ,  6.1569586 , -1.7249588 ],\n",
       "        [-1.7675565 , -3.3652165 ,  6.122612  , -1.6339774 ],\n",
       "        [-1.7252239 , -3.153151  ,  6.178579  , -1.7901638 ],\n",
       "        [-1.7907825 , -3.3638737 ,  6.087873  , -1.5820925 ],\n",
       "        [-1.6304218 , -3.3764179 ,  6.1502414 , -1.7041751 ],\n",
       "        [-1.3607082 , -3.5382738 ,  6.040377  , -1.6467156 ],\n",
       "        [-1.7246196 , -3.4487157 ,  6.1178713 , -1.5454274 ],\n",
       "        [-1.6309521 , -3.3592622 ,  6.1399355 , -1.7291942 ],\n",
       "        [-1.6777927 , -3.2859106 ,  6.15771   , -1.7539432 ],\n",
       "        [-1.6962483 , -3.3805099 ,  6.12484   , -1.619686  ],\n",
       "        [-1.8936245 , -3.2999916 ,  6.1653023 , -1.5534    ],\n",
       "        [-1.7751436 , -3.1059957 ,  6.181084  , -1.8179483 ],\n",
       "        [-1.8265917 ,  2.2092268 , -0.40873432, -0.23662418],\n",
       "        [-1.8087795 , -3.2319908 ,  5.9582405 , -1.5495777 ],\n",
       "        [-2.0745862 , -3.228533  ,  3.006572  ,  1.1507286 ],\n",
       "        [-1.893324  , -2.4069629 ,  6.102479  , -1.9528508 ],\n",
       "        [ 1.6416072 , -3.4414706 , -3.0028768 ,  3.9946494 ],\n",
       "        [-1.8691952 , -3.4970655 ,  5.7221155 , -1.2060943 ],\n",
       "        [-1.6681013 , -3.5691247 ,  6.068757  , -1.498287  ],\n",
       "        [-1.6918393 , -3.0868688 ,  6.1663737 , -1.9269024 ],\n",
       "        [-1.8268979 , -3.0624697 ,  6.180543  , -1.8092283 ],\n",
       "        [-1.6709392 , -2.5541215 ,  6.070898  , -2.1298156 ],\n",
       "        [-1.8018894 , -2.5980768 ,  6.1013947 , -2.0222297 ],\n",
       "        [-1.9796798 , -2.79571   ,  5.41471   , -1.5932565 ],\n",
       "        [-2.0035963 , -1.221595  ,  5.0889416 , -1.3159722 ],\n",
       "        [ 4.637329  , -1.3890074 , -1.1489716 , -1.4352777 ],\n",
       "        [-1.8310549 , -3.3709257 ,  6.089224  , -1.5768336 ],\n",
       "        [-1.7426398 , -3.2953117 ,  6.084316  , -1.7334162 ],\n",
       "        [-1.7719021 , -3.362339  ,  6.1298704 , -1.613776  ]],\n",
       "       dtype=float32),\n",
       " array([[-1.5492612 , -3.4220476 ,  5.931677  , -1.7262514 ],\n",
       "        [-1.7912362 , -3.4664555 ,  6.0288973 , -1.5618036 ],\n",
       "        [-1.5657406 , -3.7634037 ,  5.950985  , -1.3591229 ],\n",
       "        [-0.7584818 , -4.2144794 ,  4.5383167 , -0.59722453],\n",
       "        [-1.7231116 , -3.0628936 ,  5.8944464 , -1.8048141 ],\n",
       "        [-1.8509616 , -3.0037646 ,  6.09249   , -1.8146178 ],\n",
       "        [-1.8148865 , -3.1864066 ,  6.0930614 , -1.6854922 ],\n",
       "        [-1.6466789 , -3.2629964 ,  6.1033487 , -1.7302911 ],\n",
       "        [-2.1095018 , -1.2720551 ,  5.594262  , -1.8046209 ],\n",
       "        [-1.6157968 , -3.1164765 ,  6.1294484 , -1.8392164 ],\n",
       "        [-1.6451169 , -3.0874486 ,  6.1274395 , -1.8280671 ],\n",
       "        [-1.6151742 , -3.079107  ,  6.080697  , -1.7715179 ],\n",
       "        [-1.8805435 , -3.7294104 ,  5.7109094 , -0.96692437],\n",
       "        [-1.6415191 , -2.7463653 ,  6.043553  , -1.8168918 ],\n",
       "        [-1.7044151 , -3.2950003 ,  6.1315393 , -1.6311234 ],\n",
       "        [-1.6585914 , -3.2945285 ,  6.1348968 , -1.6826853 ],\n",
       "        [-1.7090392 , -3.143065  ,  6.137727  , -1.7163738 ],\n",
       "        [-1.6447557 , -3.3895195 ,  6.120435  , -1.6503011 ],\n",
       "        [-1.713567  , -3.546103  ,  6.0890875 , -1.4355628 ],\n",
       "        [-1.6500844 , -3.6020012 ,  6.0588026 , -1.4566981 ],\n",
       "        [-1.9501972 , -3.242089  ,  4.8903756 , -0.76501536],\n",
       "        [-1.705698  , -3.993024  ,  5.5167494 , -0.841994  ],\n",
       "        [-1.6380647 , -3.0941887 ,  6.158173  , -1.9212437 ],\n",
       "        [-1.7390794 , -4.123312  ,  5.1283    , -0.44205204],\n",
       "        [-2.256422  , -3.010573  ,  5.3288374 , -1.0373793 ],\n",
       "        [-1.7711017 , -3.235005  ,  6.148728  , -1.7152404 ],\n",
       "        [-1.8691399 , -3.116105  ,  5.0888853 , -1.1762152 ],\n",
       "        [-2.2126539 , -3.0831523 ,  5.961872  , -1.4151609 ],\n",
       "        [-1.8919204 , -3.5138073 ,  4.18333   ,  0.34164032],\n",
       "        [-1.3347322 , -3.3171947 ,  5.8057947 , -1.698374  ],\n",
       "        [-1.8178711 , -3.6540565 ,  5.9121547 , -1.2603276 ],\n",
       "        [-1.9328239 , -3.4109313 ,  6.017074  , -1.457439  ]],\n",
       "       dtype=float32),\n",
       " array([[-1.986196  , -3.0045805 ,  5.599243  , -1.1560218 ],\n",
       "        [-1.8664521 , -3.0396152 ,  6.2051935 , -1.785869  ],\n",
       "        [-1.8859665 , -3.245392  ,  6.0316434 , -1.7004585 ],\n",
       "        [-1.9334617 , -3.2905433 ,  5.2818317 , -1.0561737 ],\n",
       "        [-1.6315197 , -3.661588  ,  6.045396  , -1.4554448 ],\n",
       "        [-2.07161   , -3.631042  ,  5.4891343 , -0.62458307],\n",
       "        [-1.8565338 , -3.689838  ,  5.959982  , -1.2208463 ],\n",
       "        [-1.9619122 , -3.0948334 ,  5.8114843 , -1.4556752 ],\n",
       "        [-1.7458572 , -3.0548787 ,  5.7945395 , -1.4873652 ],\n",
       "        [-1.8879669 , -3.32839   ,  6.0916357 , -1.4445145 ],\n",
       "        [-2.1589558 , -2.9512496 ,  3.9590414 , -0.18030074],\n",
       "        [-1.6529427 , -3.5612667 ,  6.044578  , -1.4945956 ],\n",
       "        [-1.4195385 ,  2.1935234 , -2.6681974 ,  1.5170654 ],\n",
       "        [ 4.341502  , -3.1537075 , -2.619473  ,  0.7470647 ],\n",
       "        [ 4.419326  , -3.3868413 , -2.5900273 ,  1.2409167 ],\n",
       "        [ 4.9569025 , -2.7545884 , -2.2441883 , -0.17436425],\n",
       "        [ 4.2064257 , -3.6382608 , -2.4822714 ,  1.0402461 ],\n",
       "        [ 5.375826  , -2.2511058 , -1.5618188 , -1.0195723 ],\n",
       "        [ 2.1157193 , -3.5414767 , -2.7992902 ,  3.5120301 ],\n",
       "        [ 4.7694397 , -1.3187864 , -2.0452666 , -0.5063392 ],\n",
       "        [ 4.9507465 , -2.9673562 , -1.8952993 ,  0.22254176],\n",
       "        [-0.7752823 , -1.9766153 , -2.6009302 ,  4.0813055 ],\n",
       "        [ 4.9056873 , -3.217785  , -2.2245378 ,  0.4013307 ],\n",
       "        [-1.3243542 , -2.4981349 , -2.0986056 ,  5.20311   ],\n",
       "        [ 2.9680147 , -3.6814585 , -2.7885814 ,  2.4229825 ],\n",
       "        [ 5.1150875 , -3.018591  , -2.1953843 ,  0.06589961],\n",
       "        [ 4.640667  , -3.7080038 , -1.5457134 ,  0.414309  ],\n",
       "        [ 4.9865875 , -2.992262  , -2.432594  ,  0.40601808],\n",
       "        [ 4.743088  , -3.2252932 , -2.3398511 ,  0.52951145],\n",
       "        [ 4.8854957 , -2.9362392 , -2.42635   ,  0.3084233 ],\n",
       "        [ 3.9943485 , -3.4136562 , -2.6180825 ,  1.4774297 ],\n",
       "        [ 5.2011733 , -2.743026  , -2.2819428 , -0.06782237]],\n",
       "       dtype=float32),\n",
       " array([[ 4.455094  , -3.5489998 , -2.3178477 ,  1.1230493 ],\n",
       "        [ 4.703287  , -3.209893  , -2.4799376 ,  0.6671899 ],\n",
       "        [ 5.0521374 , -2.6938102 , -2.226388  , -0.02768467],\n",
       "        [ 5.2595134 , -2.019077  , -1.7712219 , -0.8800953 ],\n",
       "        [ 4.407299  , -0.20847061, -1.8487216 , -1.2157726 ],\n",
       "        [ 5.0957794 , -3.3156033 , -1.8211334 ,  0.12399746],\n",
       "        [ 5.036513  , -1.2855239 , -1.4418439 , -1.4651467 ],\n",
       "        [ 2.626832  , -4.681244  , -1.3847373 ,  1.9466007 ],\n",
       "        [ 3.4086154 , -2.775019  , -2.746212  ,  1.6128447 ],\n",
       "        [ 5.196617  , -1.8588827 , -1.4842288 , -1.1920935 ],\n",
       "        [-1.7899966 ,  5.9036627 , -1.816879  , -1.1864729 ],\n",
       "        [ 5.144283  , -2.8479435 , -2.2211633 , -0.0519899 ],\n",
       "        [ 1.4945216 , -3.2528672 , -2.799172  ,  3.208647  ],\n",
       "        [ 3.0493636 , -3.770055  , -2.8225374 ,  2.3273113 ],\n",
       "        [ 3.448205  , -3.6814508 , -2.7888615 ,  1.9406142 ],\n",
       "        [ 4.108015  , -3.3430636 , -2.7083066 ,  1.2745564 ],\n",
       "        [ 4.770974  , -2.9040794 , -2.367635  ,  0.2532295 ],\n",
       "        [-0.94872284, -3.3608103 , -1.7974235 ,  4.5342975 ],\n",
       "        [ 5.1572485 , -2.8646374 , -2.0786722 , -0.07342917],\n",
       "        [ 5.1697326 , -2.8285558 , -2.1958055 ,  0.03248599],\n",
       "        [ 3.072179  , -1.5238452 , -2.0740647 ,  0.04782985],\n",
       "        [ 1.3844135 , -2.1630788 , -0.3236571 ,  0.20179987],\n",
       "        [-1.3180549 , -2.8821445 , -1.7986566 ,  5.299801  ],\n",
       "        [ 0.6275462 , -3.2503467 , -1.2950292 ,  2.668182  ],\n",
       "        [-2.4134507 ,  4.410846  , -2.6329823 ,  0.32694614],\n",
       "        [ 5.2858963 , -2.5515375 , -1.835619  , -0.54351074],\n",
       "        [ 3.5525289 ,  0.78171706, -1.2006779 , -1.3993537 ],\n",
       "        [ 3.2963028 , -3.6392996 , -2.8509731 ,  1.9861484 ],\n",
       "        [ 4.2500973 , -3.0258825 , -2.8101177 ,  0.9485326 ],\n",
       "        [ 3.0271382 , -3.2772102 , -2.931625  ,  2.017469  ],\n",
       "        [ 5.0562706 , -2.0605032 , -1.6091763 , -0.7573649 ],\n",
       "        [ 4.460071  , -3.5256767 , -2.3695202 ,  1.0397344 ]],\n",
       "       dtype=float32),\n",
       " array([[ 5.3682408e+00, -2.4365160e+00, -1.8210707e+00, -6.3450611e-01],\n",
       "        [-3.5734102e-01, -1.3918464e+00,  2.1318991e+00, -9.0897545e-02],\n",
       "        [ 3.6194677e+00, -3.7157962e+00, -2.5586662e+00,  1.8354962e+00],\n",
       "        [ 1.5994529e+00, -2.2345066e+00, -3.4962010e+00,  3.6184545e+00],\n",
       "        [ 5.2779627e+00, -2.6607547e+00, -2.0611982e+00, -2.8639352e-01],\n",
       "        [ 4.1370740e+00, -9.8787820e-01, -2.0961063e+00, -2.4209249e-01],\n",
       "        [ 4.9631028e+00, -3.1353858e+00, -2.2578874e+00,  3.4499267e-01],\n",
       "        [ 3.4636402e+00,  1.2858276e+00, -2.4923449e+00, -8.4602642e-01],\n",
       "        [-7.9844904e-01,  3.1145368e+00, -9.1550159e-01, -6.3495344e-01],\n",
       "        [-1.7142793e+00,  4.1337781e+00, -1.8886170e+00, -3.1089610e-01],\n",
       "        [ 3.7369671e+00, -2.7810843e+00, -3.0780430e+00,  1.7617424e+00],\n",
       "        [ 5.3180351e+00, -2.3631544e+00, -1.5889168e+00, -8.5096133e-01],\n",
       "        [ 4.2898250e+00, -2.8067029e+00, -1.0336695e+00, -2.4123594e-01],\n",
       "        [ 3.9451294e+00, -6.4350642e-02, -2.1005938e+00, -1.2470995e+00],\n",
       "        [ 5.1571283e+00, -2.7897110e+00, -2.2003455e+00, -2.5709078e-02],\n",
       "        [-2.7622600e+00,  1.9042495e+00, -2.6446469e+00,  3.3928902e+00],\n",
       "        [ 2.0555873e+00,  2.3259683e+00, -2.5868521e+00, -1.4581649e+00],\n",
       "        [ 2.5767701e+00,  2.2656875e+00, -1.2503929e+00, -1.5735712e+00],\n",
       "        [ 5.3908238e+00, -2.3048892e+00, -1.7866638e+00, -8.1258190e-01],\n",
       "        [ 3.6979966e+00, -4.6619916e-01, -8.6369425e-01, -1.5259728e+00],\n",
       "        [ 3.6909549e+00,  1.6157734e-01, -2.4084673e+00, -6.2050164e-01],\n",
       "        [-5.3731382e-01, -4.4172916e+00,  4.3313475e+00, -4.1916287e-01],\n",
       "        [ 4.7609663e+00, -3.4933915e+00, -1.3727645e+00, -5.1014870e-03],\n",
       "        [ 3.5425973e+00,  3.0531439e-01, -1.3276870e+00, -1.9484493e+00],\n",
       "        [ 4.5243616e+00, -3.0209219e+00, -6.3769674e-01, -8.1956524e-01],\n",
       "        [ 5.2577486e+00, -2.7918200e+00, -2.0155499e+00, -1.9685474e-01],\n",
       "        [ 5.0326295e+00, -3.0776558e+00, -1.7156984e+00, -1.3587406e-01],\n",
       "        [ 4.1643705e+00, -3.3246727e+00, -1.8065166e+00,  8.5744673e-01],\n",
       "        [ 5.3503146e+00, -2.2866149e+00, -1.7901989e+00, -6.3380212e-01],\n",
       "        [ 4.7304134e+00, -2.8659899e+00, -2.6108608e+00,  6.4721197e-01],\n",
       "        [ 4.5525947e+00, -2.9629641e+00, -2.6932740e+00,  7.0457721e-01],\n",
       "        [ 2.2811906e+00, -3.8928297e+00, -2.8382607e+00,  3.2132764e+00]],\n",
       "       dtype=float32),\n",
       " array([[ 2.8707247 , -3.9097736 , -2.5877962 ,  2.6026773 ],\n",
       "        [ 5.271591  , -2.694407  , -1.6215258 , -0.5993748 ],\n",
       "        [-0.45143077, -3.6741257 , -1.5914834 ,  4.6462755 ],\n",
       "        [ 3.583497  , -3.2284737 , -2.7943912 ,  1.2493709 ],\n",
       "        [ 4.4460983 , -3.4201367 , -1.6401093 ,  0.13071546],\n",
       "        [ 5.3249474 , -2.5292826 , -1.9006395 , -0.4831226 ],\n",
       "        [ 3.6348643 , -3.5307074 ,  0.25097966, -0.3938713 ],\n",
       "        [ 0.9818063 , -3.993648  , -2.3003294 ,  4.192173  ],\n",
       "        [ 4.5345497 , -3.2567601 , -2.4406538 ,  0.5426153 ],\n",
       "        [ 4.8459573 , -2.0054193 , -2.3711762 ,  0.04728909],\n",
       "        [ 1.0749481 ,  3.069353  , -2.6557677 , -0.88093686],\n",
       "        [-0.02926982, -2.575912  , -2.864027  ,  4.3037195 ],\n",
       "        [ 3.8562229 , -4.2437162 , -1.9679354 ,  1.3878495 ],\n",
       "        [ 4.926677  , -3.280392  , -2.0064378 ,  0.3299396 ],\n",
       "        [ 4.3102636 , -3.1830392 , -2.6897316 ,  0.9251153 ],\n",
       "        [ 4.316886  , -3.1945953 , -0.9528128 , -0.39584637]],\n",
       "       dtype=float32)]"
      ]
     },
     "execution_count": 23,
     "metadata": {},
     "output_type": "execute_result"
    }
   ],
   "source": [
    "predictions"
   ]
  },
  {
   "cell_type": "markdown",
   "metadata": {},
   "source": [
    "Check the true_labels array to see the \"correct\" labels of each input."
   ]
  },
  {
   "cell_type": "code",
   "execution_count": 24,
   "metadata": {},
   "outputs": [
    {
     "data": {
      "text/plain": [
       "[array([3, 3, 3, 3, 3, 3, 3, 3, 3, 3, 3, 3, 3, 3, 3, 3, 3, 3, 3, 3, 3, 3,\n",
       "        3, 3, 3, 3, 3, 3, 3, 3, 3, 3]),\n",
       " array([3, 3, 3, 3, 3, 3, 3, 3, 3, 3, 3, 3, 3, 3, 3, 3, 3, 3, 3, 3, 3, 3,\n",
       "        3, 3, 3, 3, 3, 3, 3, 3, 3, 3]),\n",
       " array([3, 3, 3, 3, 3, 3, 3, 3, 3, 3, 3, 3, 3, 3, 3, 3, 3, 3, 3, 3, 3, 3,\n",
       "        3, 3, 3, 3, 3, 3, 3, 3, 3, 3]),\n",
       " array([3, 3, 3, 3, 1, 1, 1, 1, 1, 1, 1, 1, 1, 1, 1, 1, 1, 1, 1, 1, 1, 1,\n",
       "        1, 1, 1, 1, 1, 1, 1, 1, 1, 1]),\n",
       " array([1, 1, 1, 1, 1, 1, 1, 1, 1, 1, 1, 1, 1, 1, 1, 1, 1, 1, 1, 1, 1, 1,\n",
       "        1, 1, 1, 1, 1, 1, 1, 1, 1, 1]),\n",
       " array([1, 1, 1, 1, 1, 1, 1, 1, 1, 1, 1, 1, 1, 1, 1, 1, 1, 1, 1, 1, 1, 1,\n",
       "        1, 1, 1, 1, 1, 1, 1, 1, 1, 1]),\n",
       " array([1, 1, 1, 1, 1, 1, 1, 1, 2, 2, 2, 2, 2, 2, 2, 2, 2, 2, 2, 2, 2, 2,\n",
       "        2, 2, 2, 2, 2, 2, 2, 2, 2, 2]),\n",
       " array([2, 2, 2, 2, 2, 2, 2, 2, 2, 2, 2, 2, 2, 2, 2, 2, 2, 2, 2, 2, 2, 2,\n",
       "        2, 2, 2, 2, 2, 2, 2, 2, 2, 2]),\n",
       " array([2, 2, 2, 2, 2, 2, 2, 2, 2, 2, 2, 2, 2, 2, 2, 2, 2, 2, 2, 2, 2, 2,\n",
       "        2, 2, 2, 2, 2, 2, 2, 2, 2, 2]),\n",
       " array([2, 2, 2, 2, 2, 2, 2, 2, 2, 2, 2, 2, 0, 0, 0, 0, 0, 0, 0, 0, 0, 0,\n",
       "        0, 0, 0, 0, 0, 0, 0, 0, 0, 0]),\n",
       " array([0, 0, 0, 0, 0, 0, 0, 0, 0, 0, 0, 0, 0, 0, 0, 0, 0, 0, 0, 0, 0, 0,\n",
       "        0, 0, 0, 0, 0, 0, 0, 0, 0, 0]),\n",
       " array([0, 0, 0, 0, 0, 0, 0, 0, 0, 0, 0, 0, 0, 0, 0, 0, 0, 0, 0, 0, 0, 0,\n",
       "        0, 0, 0, 0, 0, 0, 0, 0, 0, 0]),\n",
       " array([0, 0, 0, 0, 0, 0, 0, 0, 0, 0, 0, 0, 0, 0, 0, 0])]"
      ]
     },
     "execution_count": 24,
     "metadata": {},
     "output_type": "execute_result"
    }
   ],
   "source": [
    "true_labels"
   ]
  },
  {
   "cell_type": "markdown",
   "metadata": {},
   "source": [
    "Create the lists that will be fed into the classification_report function that will create a confusion matrix. We use np.argmax to choose the category with the highest score as its prediction."
   ]
  },
  {
   "cell_type": "code",
   "execution_count": 25,
   "metadata": {},
   "outputs": [],
   "source": [
    "flat_predictions = [item for sublist in predictions for item in sublist]\n",
    "flat_predictions = np.argmax(flat_predictions, axis=1).flatten()\n",
    "flat_true_labels = [item for sublist in true_labels for item in sublist]"
   ]
  },
  {
   "cell_type": "markdown",
   "metadata": {},
   "source": [
    "Display the confusion matrix so we can evaluate how well our model classifies with data that it has never seen before."
   ]
  },
  {
   "cell_type": "code",
   "execution_count": 26,
   "metadata": {
    "scrolled": false
   },
   "outputs": [
    {
     "name": "stdout",
     "output_type": "stream",
     "text": [
      "              precision    recall  f1-score   support\n",
      "\n",
      "    Business       0.92      0.78      0.84       100\n",
      "       Crime       0.92      0.97      0.95       100\n",
      "      Sports       0.94      0.97      0.96       100\n",
      "  Technology       0.85      0.91      0.88       100\n",
      "\n",
      "    accuracy                           0.91       400\n",
      "   macro avg       0.91      0.91      0.91       400\n",
      "weighted avg       0.91      0.91      0.91       400\n",
      "\n"
     ]
    }
   ],
   "source": [
    "import numpy as np\n",
    "from sklearn.metrics import classification_report\n",
    "\n",
    "print(classification_report(flat_true_labels,\n",
    "                            flat_predictions,\n",
    "                            target_names = [\n",
    "                                'Business',\n",
    "                                'Crime',\n",
    "                                'Sports',\n",
    "                                'Technology']))"
   ]
  },
  {
   "cell_type": "markdown",
   "metadata": {},
   "source": [
    "The results above are very promising. How about we try the model out on our own \"Article\" to see if it can classify it properly. Let's first implement a predictor function that will process our text so that it can be fed into the model."
   ]
  },
  {
   "cell_type": "code",
   "execution_count": 72,
   "metadata": {},
   "outputs": [],
   "source": [
    "# Create function for predicting\n",
    "def predictor(sentence):\n",
    "    # We need to add special tokens at the beginning and end of each sentence for BERT to work properly\n",
    "    sentence = \"[CLS] \" + sentence + \" [SEP]\"\n",
    "    label = 0\n",
    "\n",
    "    tokenized_text = tokenizer.tokenize(sentence)\n",
    "\n",
    "    MAX_LEN = 128\n",
    "    # Use the BERT tokenizer to convert the tokens to their index numbers in the BERT vocabulary\n",
    "    input_id = [tokenizer.convert_tokens_to_ids(tokenized_text)]\n",
    "    # Pad our input tokens\n",
    "    input_id = pad_sequences(input_id, maxlen=MAX_LEN, dtype=\"long\", truncating=\"post\", padding=\"post\")\n",
    "\n",
    "    prediction_input = torch.tensor(input_id, dtype=torch.long)\n",
    "    logits = model(prediction_input)\n",
    "    flat_predictions = np.argmax(logits.detach().cpu().numpy(), axis=1).flatten()\n",
    "\n",
    "    print(\"Prediction:\")\n",
    "    if flat_predictions[0] == 0:\n",
    "        print('Business')\n",
    "    elif flat_predictions[0] == 1:\n",
    "        print('Crime')\n",
    "    elif flat_predictions[0] == 2:\n",
    "        print('Sports')\n",
    "    elif flat_predictions[0] == 3:\n",
    "        print('Technology')"
   ]
  },
  {
   "cell_type": "markdown",
   "metadata": {},
   "source": [
    "Let's test our model with the predictor function to check how it classifies."
   ]
  },
  {
   "cell_type": "code",
   "execution_count": 96,
   "metadata": {},
   "outputs": [
    {
     "name": "stdout",
     "output_type": "stream",
     "text": [
      "Prediction:\n",
      "Sports\n"
     ]
    }
   ],
   "source": [
    "sentence = 'Gillas steals the cup from Ateneo.'\n",
    "predictor(sentence)"
   ]
  },
  {
   "cell_type": "code",
   "execution_count": null,
   "metadata": {},
   "outputs": [],
   "source": []
  }
 ],
 "metadata": {
  "kernelspec": {
   "display_name": "Python 3",
   "language": "python",
   "name": "python3"
  },
  "language_info": {
   "codemirror_mode": {
    "name": "ipython",
    "version": 3
   },
   "file_extension": ".py",
   "mimetype": "text/x-python",
   "name": "python",
   "nbconvert_exporter": "python",
   "pygments_lexer": "ipython3",
   "version": "3.7.3"
  }
 },
 "nbformat": 4,
 "nbformat_minor": 2
}
